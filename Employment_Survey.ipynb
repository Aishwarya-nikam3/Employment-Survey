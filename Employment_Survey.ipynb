{
  "nbformat": 4,
  "nbformat_minor": 0,
  "metadata": {
    "colab": {
      "name": "Employment Survey.ipynb",
      "provenance": []
    },
    "kernelspec": {
      "name": "python3",
      "display_name": "Python 3"
    }
  },
  "cells": [
    {
      "cell_type": "markdown",
      "metadata": {
        "id": "ZVV9pIB9PMK3"
      },
      "source": [
        "#Importing the required libraries"
      ]
    },
    {
      "cell_type": "code",
      "metadata": {
        "id": "A2p_EUQsLmcU"
      },
      "source": [
        "import numpy as np\r\n",
        "import pandas as pd\r\n",
        "import matplotlib.pyplot as plt\r\n",
        "import seaborn as sns"
      ],
      "execution_count": 1,
      "outputs": []
    },
    {
      "cell_type": "markdown",
      "metadata": {
        "id": "72KRtPQtPZ8W"
      },
      "source": [
        "#Importing the dataset"
      ]
    },
    {
      "cell_type": "code",
      "metadata": {
        "id": "gZTtOjNQL1nc"
      },
      "source": [
        "dataset = pd.read_csv('EmploymentSurvey.csv')"
      ],
      "execution_count": 2,
      "outputs": []
    },
    {
      "cell_type": "markdown",
      "metadata": {
        "id": "p8BHxWDYWkYI"
      },
      "source": [
        "##Displaying dataset\r\n"
      ]
    },
    {
      "cell_type": "code",
      "metadata": {
        "colab": {
          "base_uri": "https://localhost:8080/",
          "height": 350
        },
        "id": "XIFM1fRfMaUM",
        "outputId": "57f0fbab-7e39-4470-ce43-55d8ae19e5a0"
      },
      "source": [
        "dataset.head()"
      ],
      "execution_count": 3,
      "outputs": [
        {
          "output_type": "execute_result",
          "data": {
            "text/html": [
              "<div>\n",
              "<style scoped>\n",
              "    .dataframe tbody tr th:only-of-type {\n",
              "        vertical-align: middle;\n",
              "    }\n",
              "\n",
              "    .dataframe tbody tr th {\n",
              "        vertical-align: top;\n",
              "    }\n",
              "\n",
              "    .dataframe thead th {\n",
              "        text-align: right;\n",
              "    }\n",
              "</style>\n",
              "<table border=\"1\" class=\"dataframe\">\n",
              "  <thead>\n",
              "    <tr style=\"text-align: right;\">\n",
              "      <th></th>\n",
              "      <th>Timestamp</th>\n",
              "      <th>Email Address</th>\n",
              "      <th>First Name</th>\n",
              "      <th>Last Name</th>\n",
              "      <th>Job Title</th>\n",
              "      <th>Location</th>\n",
              "      <th>Company name</th>\n",
              "      <th>Gender</th>\n",
              "      <th>Age</th>\n",
              "      <th>Level of Education</th>\n",
              "      <th>Industry</th>\n",
              "      <th>Employed</th>\n",
              "      <th>Skills</th>\n",
              "      <th>College</th>\n",
              "    </tr>\n",
              "  </thead>\n",
              "  <tbody>\n",
              "    <tr>\n",
              "      <th>0</th>\n",
              "      <td>1/19/2021 14:46:53</td>\n",
              "      <td>artimishra20@yahoo.com</td>\n",
              "      <td>Arti</td>\n",
              "      <td>Mishra</td>\n",
              "      <td>Web Developer</td>\n",
              "      <td>Mumbai</td>\n",
              "      <td>ABC Company</td>\n",
              "      <td>Female</td>\n",
              "      <td>23.0</td>\n",
              "      <td>Bachelor Degree</td>\n",
              "      <td>IT</td>\n",
              "      <td>Yes</td>\n",
              "      <td>Web Designing</td>\n",
              "      <td>XYZ College name</td>\n",
              "    </tr>\n",
              "    <tr>\n",
              "      <th>1</th>\n",
              "      <td>1/19/2021 14:50:02</td>\n",
              "      <td>aarushu569@gmail.com</td>\n",
              "      <td>Gopi</td>\n",
              "      <td>Parmeshwar</td>\n",
              "      <td>Data Analyst</td>\n",
              "      <td>Gujrat</td>\n",
              "      <td>BCd Company</td>\n",
              "      <td>Female</td>\n",
              "      <td>24.0</td>\n",
              "      <td>Bachelor Degree</td>\n",
              "      <td>IT</td>\n",
              "      <td>Yes</td>\n",
              "      <td>Exploratory Data analysis</td>\n",
              "      <td>BCS College</td>\n",
              "    </tr>\n",
              "    <tr>\n",
              "      <th>2</th>\n",
              "      <td>1/19/2021 14:59:23</td>\n",
              "      <td>aarti@gmail.com</td>\n",
              "      <td>Suggesh</td>\n",
              "      <td>Mishra</td>\n",
              "      <td>Chartered Accountant</td>\n",
              "      <td>Mumbai</td>\n",
              "      <td>ACC</td>\n",
              "      <td>Male</td>\n",
              "      <td>30.0</td>\n",
              "      <td>Master Degree</td>\n",
              "      <td>Commercial</td>\n",
              "      <td>No</td>\n",
              "      <td>Marketing</td>\n",
              "      <td>Ac College</td>\n",
              "    </tr>\n",
              "    <tr>\n",
              "      <th>3</th>\n",
              "      <td>1/19/2021 15:01:40</td>\n",
              "      <td>anu30330@gmail.com</td>\n",
              "      <td>Anu</td>\n",
              "      <td>Mishra</td>\n",
              "      <td>Cashier</td>\n",
              "      <td>Gujrat</td>\n",
              "      <td>xyz company</td>\n",
              "      <td>Female</td>\n",
              "      <td>32.0</td>\n",
              "      <td>Bachelor Degree</td>\n",
              "      <td>Banking</td>\n",
              "      <td>No</td>\n",
              "      <td>Collecting Money</td>\n",
              "      <td>NaN</td>\n",
              "    </tr>\n",
              "    <tr>\n",
              "      <th>4</th>\n",
              "      <td>1/19/2021 15:05:15</td>\n",
              "      <td>Ashi@yahoo.com</td>\n",
              "      <td>Ashu</td>\n",
              "      <td>Goyal</td>\n",
              "      <td>Team Manager</td>\n",
              "      <td>Bangalore</td>\n",
              "      <td>Ashi Pvt. Ltd.</td>\n",
              "      <td>Male</td>\n",
              "      <td>26.0</td>\n",
              "      <td>Master Degree</td>\n",
              "      <td>Textile Industry</td>\n",
              "      <td>No</td>\n",
              "      <td>NaN</td>\n",
              "      <td>NaN</td>\n",
              "    </tr>\n",
              "  </tbody>\n",
              "</table>\n",
              "</div>"
            ],
            "text/plain": [
              "            Timestamp  ...           College\n",
              "0  1/19/2021 14:46:53  ...  XYZ College name\n",
              "1  1/19/2021 14:50:02  ...       BCS College\n",
              "2  1/19/2021 14:59:23  ...        Ac College\n",
              "3  1/19/2021 15:01:40  ...               NaN\n",
              "4  1/19/2021 15:05:15  ...               NaN\n",
              "\n",
              "[5 rows x 14 columns]"
            ]
          },
          "metadata": {
            "tags": []
          },
          "execution_count": 3
        }
      ]
    },
    {
      "cell_type": "markdown",
      "metadata": {
        "id": "vG4gwMJbPmC7"
      },
      "source": [
        "#Renaming Columns"
      ]
    },
    {
      "cell_type": "code",
      "metadata": {
        "id": "Xxfiu631OlCu"
      },
      "source": [
        "dataset.rename(columns = {\"Job Title\" : \"Job_Title\"}, inplace = True)"
      ],
      "execution_count": 4,
      "outputs": []
    },
    {
      "cell_type": "code",
      "metadata": {
        "colab": {
          "base_uri": "https://localhost:8080/",
          "height": 350
        },
        "id": "0adKXx8_Rs8b",
        "outputId": "05449718-7588-4b5d-edb2-d2bba555c867"
      },
      "source": [
        "dataset.rename(columns = {\"Level of Education\" : \"Education\"}, inplace = True)\r\n",
        "dataset.head()"
      ],
      "execution_count": 5,
      "outputs": [
        {
          "output_type": "execute_result",
          "data": {
            "text/html": [
              "<div>\n",
              "<style scoped>\n",
              "    .dataframe tbody tr th:only-of-type {\n",
              "        vertical-align: middle;\n",
              "    }\n",
              "\n",
              "    .dataframe tbody tr th {\n",
              "        vertical-align: top;\n",
              "    }\n",
              "\n",
              "    .dataframe thead th {\n",
              "        text-align: right;\n",
              "    }\n",
              "</style>\n",
              "<table border=\"1\" class=\"dataframe\">\n",
              "  <thead>\n",
              "    <tr style=\"text-align: right;\">\n",
              "      <th></th>\n",
              "      <th>Timestamp</th>\n",
              "      <th>Email Address</th>\n",
              "      <th>First Name</th>\n",
              "      <th>Last Name</th>\n",
              "      <th>Job_Title</th>\n",
              "      <th>Location</th>\n",
              "      <th>Company name</th>\n",
              "      <th>Gender</th>\n",
              "      <th>Age</th>\n",
              "      <th>Education</th>\n",
              "      <th>Industry</th>\n",
              "      <th>Employed</th>\n",
              "      <th>Skills</th>\n",
              "      <th>College</th>\n",
              "    </tr>\n",
              "  </thead>\n",
              "  <tbody>\n",
              "    <tr>\n",
              "      <th>0</th>\n",
              "      <td>1/19/2021 14:46:53</td>\n",
              "      <td>artimishra20@yahoo.com</td>\n",
              "      <td>Arti</td>\n",
              "      <td>Mishra</td>\n",
              "      <td>Web Developer</td>\n",
              "      <td>Mumbai</td>\n",
              "      <td>ABC Company</td>\n",
              "      <td>Female</td>\n",
              "      <td>23.0</td>\n",
              "      <td>Bachelor Degree</td>\n",
              "      <td>IT</td>\n",
              "      <td>Yes</td>\n",
              "      <td>Web Designing</td>\n",
              "      <td>XYZ College name</td>\n",
              "    </tr>\n",
              "    <tr>\n",
              "      <th>1</th>\n",
              "      <td>1/19/2021 14:50:02</td>\n",
              "      <td>aarushu569@gmail.com</td>\n",
              "      <td>Gopi</td>\n",
              "      <td>Parmeshwar</td>\n",
              "      <td>Data Analyst</td>\n",
              "      <td>Gujrat</td>\n",
              "      <td>BCd Company</td>\n",
              "      <td>Female</td>\n",
              "      <td>24.0</td>\n",
              "      <td>Bachelor Degree</td>\n",
              "      <td>IT</td>\n",
              "      <td>Yes</td>\n",
              "      <td>Exploratory Data analysis</td>\n",
              "      <td>BCS College</td>\n",
              "    </tr>\n",
              "    <tr>\n",
              "      <th>2</th>\n",
              "      <td>1/19/2021 14:59:23</td>\n",
              "      <td>aarti@gmail.com</td>\n",
              "      <td>Suggesh</td>\n",
              "      <td>Mishra</td>\n",
              "      <td>Chartered Accountant</td>\n",
              "      <td>Mumbai</td>\n",
              "      <td>ACC</td>\n",
              "      <td>Male</td>\n",
              "      <td>30.0</td>\n",
              "      <td>Master Degree</td>\n",
              "      <td>Commercial</td>\n",
              "      <td>No</td>\n",
              "      <td>Marketing</td>\n",
              "      <td>Ac College</td>\n",
              "    </tr>\n",
              "    <tr>\n",
              "      <th>3</th>\n",
              "      <td>1/19/2021 15:01:40</td>\n",
              "      <td>anu30330@gmail.com</td>\n",
              "      <td>Anu</td>\n",
              "      <td>Mishra</td>\n",
              "      <td>Cashier</td>\n",
              "      <td>Gujrat</td>\n",
              "      <td>xyz company</td>\n",
              "      <td>Female</td>\n",
              "      <td>32.0</td>\n",
              "      <td>Bachelor Degree</td>\n",
              "      <td>Banking</td>\n",
              "      <td>No</td>\n",
              "      <td>Collecting Money</td>\n",
              "      <td>NaN</td>\n",
              "    </tr>\n",
              "    <tr>\n",
              "      <th>4</th>\n",
              "      <td>1/19/2021 15:05:15</td>\n",
              "      <td>Ashi@yahoo.com</td>\n",
              "      <td>Ashu</td>\n",
              "      <td>Goyal</td>\n",
              "      <td>Team Manager</td>\n",
              "      <td>Bangalore</td>\n",
              "      <td>Ashi Pvt. Ltd.</td>\n",
              "      <td>Male</td>\n",
              "      <td>26.0</td>\n",
              "      <td>Master Degree</td>\n",
              "      <td>Textile Industry</td>\n",
              "      <td>No</td>\n",
              "      <td>NaN</td>\n",
              "      <td>NaN</td>\n",
              "    </tr>\n",
              "  </tbody>\n",
              "</table>\n",
              "</div>"
            ],
            "text/plain": [
              "            Timestamp  ...           College\n",
              "0  1/19/2021 14:46:53  ...  XYZ College name\n",
              "1  1/19/2021 14:50:02  ...       BCS College\n",
              "2  1/19/2021 14:59:23  ...        Ac College\n",
              "3  1/19/2021 15:01:40  ...               NaN\n",
              "4  1/19/2021 15:05:15  ...               NaN\n",
              "\n",
              "[5 rows x 14 columns]"
            ]
          },
          "metadata": {
            "tags": []
          },
          "execution_count": 5
        }
      ]
    },
    {
      "cell_type": "code",
      "metadata": {
        "colab": {
          "base_uri": "https://localhost:8080/",
          "height": 418
        },
        "id": "Itvey_l5QPpV",
        "outputId": "098990d3-3f8b-4950-a07c-ed2c875e74b9"
      },
      "source": [
        "dataset.isnull()"
      ],
      "execution_count": 6,
      "outputs": [
        {
          "output_type": "execute_result",
          "data": {
            "text/html": [
              "<div>\n",
              "<style scoped>\n",
              "    .dataframe tbody tr th:only-of-type {\n",
              "        vertical-align: middle;\n",
              "    }\n",
              "\n",
              "    .dataframe tbody tr th {\n",
              "        vertical-align: top;\n",
              "    }\n",
              "\n",
              "    .dataframe thead th {\n",
              "        text-align: right;\n",
              "    }\n",
              "</style>\n",
              "<table border=\"1\" class=\"dataframe\">\n",
              "  <thead>\n",
              "    <tr style=\"text-align: right;\">\n",
              "      <th></th>\n",
              "      <th>Timestamp</th>\n",
              "      <th>Email Address</th>\n",
              "      <th>First Name</th>\n",
              "      <th>Last Name</th>\n",
              "      <th>Job_Title</th>\n",
              "      <th>Location</th>\n",
              "      <th>Company name</th>\n",
              "      <th>Gender</th>\n",
              "      <th>Age</th>\n",
              "      <th>Education</th>\n",
              "      <th>Industry</th>\n",
              "      <th>Employed</th>\n",
              "      <th>Skills</th>\n",
              "      <th>College</th>\n",
              "    </tr>\n",
              "  </thead>\n",
              "  <tbody>\n",
              "    <tr>\n",
              "      <th>0</th>\n",
              "      <td>False</td>\n",
              "      <td>False</td>\n",
              "      <td>False</td>\n",
              "      <td>False</td>\n",
              "      <td>False</td>\n",
              "      <td>False</td>\n",
              "      <td>False</td>\n",
              "      <td>False</td>\n",
              "      <td>False</td>\n",
              "      <td>False</td>\n",
              "      <td>False</td>\n",
              "      <td>False</td>\n",
              "      <td>False</td>\n",
              "      <td>False</td>\n",
              "    </tr>\n",
              "    <tr>\n",
              "      <th>1</th>\n",
              "      <td>False</td>\n",
              "      <td>False</td>\n",
              "      <td>False</td>\n",
              "      <td>False</td>\n",
              "      <td>False</td>\n",
              "      <td>False</td>\n",
              "      <td>False</td>\n",
              "      <td>False</td>\n",
              "      <td>False</td>\n",
              "      <td>False</td>\n",
              "      <td>False</td>\n",
              "      <td>False</td>\n",
              "      <td>False</td>\n",
              "      <td>False</td>\n",
              "    </tr>\n",
              "    <tr>\n",
              "      <th>2</th>\n",
              "      <td>False</td>\n",
              "      <td>False</td>\n",
              "      <td>False</td>\n",
              "      <td>False</td>\n",
              "      <td>False</td>\n",
              "      <td>False</td>\n",
              "      <td>False</td>\n",
              "      <td>False</td>\n",
              "      <td>False</td>\n",
              "      <td>False</td>\n",
              "      <td>False</td>\n",
              "      <td>False</td>\n",
              "      <td>False</td>\n",
              "      <td>False</td>\n",
              "    </tr>\n",
              "    <tr>\n",
              "      <th>3</th>\n",
              "      <td>False</td>\n",
              "      <td>False</td>\n",
              "      <td>False</td>\n",
              "      <td>False</td>\n",
              "      <td>False</td>\n",
              "      <td>False</td>\n",
              "      <td>False</td>\n",
              "      <td>False</td>\n",
              "      <td>False</td>\n",
              "      <td>False</td>\n",
              "      <td>False</td>\n",
              "      <td>False</td>\n",
              "      <td>False</td>\n",
              "      <td>True</td>\n",
              "    </tr>\n",
              "    <tr>\n",
              "      <th>4</th>\n",
              "      <td>False</td>\n",
              "      <td>False</td>\n",
              "      <td>False</td>\n",
              "      <td>False</td>\n",
              "      <td>False</td>\n",
              "      <td>False</td>\n",
              "      <td>False</td>\n",
              "      <td>False</td>\n",
              "      <td>False</td>\n",
              "      <td>False</td>\n",
              "      <td>False</td>\n",
              "      <td>False</td>\n",
              "      <td>True</td>\n",
              "      <td>True</td>\n",
              "    </tr>\n",
              "    <tr>\n",
              "      <th>...</th>\n",
              "      <td>...</td>\n",
              "      <td>...</td>\n",
              "      <td>...</td>\n",
              "      <td>...</td>\n",
              "      <td>...</td>\n",
              "      <td>...</td>\n",
              "      <td>...</td>\n",
              "      <td>...</td>\n",
              "      <td>...</td>\n",
              "      <td>...</td>\n",
              "      <td>...</td>\n",
              "      <td>...</td>\n",
              "      <td>...</td>\n",
              "      <td>...</td>\n",
              "    </tr>\n",
              "    <tr>\n",
              "      <th>95</th>\n",
              "      <td>False</td>\n",
              "      <td>False</td>\n",
              "      <td>False</td>\n",
              "      <td>False</td>\n",
              "      <td>False</td>\n",
              "      <td>False</td>\n",
              "      <td>False</td>\n",
              "      <td>False</td>\n",
              "      <td>False</td>\n",
              "      <td>False</td>\n",
              "      <td>False</td>\n",
              "      <td>False</td>\n",
              "      <td>True</td>\n",
              "      <td>False</td>\n",
              "    </tr>\n",
              "    <tr>\n",
              "      <th>96</th>\n",
              "      <td>False</td>\n",
              "      <td>False</td>\n",
              "      <td>False</td>\n",
              "      <td>False</td>\n",
              "      <td>False</td>\n",
              "      <td>False</td>\n",
              "      <td>False</td>\n",
              "      <td>False</td>\n",
              "      <td>False</td>\n",
              "      <td>False</td>\n",
              "      <td>False</td>\n",
              "      <td>False</td>\n",
              "      <td>False</td>\n",
              "      <td>False</td>\n",
              "    </tr>\n",
              "    <tr>\n",
              "      <th>97</th>\n",
              "      <td>False</td>\n",
              "      <td>False</td>\n",
              "      <td>False</td>\n",
              "      <td>False</td>\n",
              "      <td>False</td>\n",
              "      <td>False</td>\n",
              "      <td>False</td>\n",
              "      <td>False</td>\n",
              "      <td>False</td>\n",
              "      <td>False</td>\n",
              "      <td>False</td>\n",
              "      <td>False</td>\n",
              "      <td>False</td>\n",
              "      <td>False</td>\n",
              "    </tr>\n",
              "    <tr>\n",
              "      <th>98</th>\n",
              "      <td>False</td>\n",
              "      <td>False</td>\n",
              "      <td>False</td>\n",
              "      <td>False</td>\n",
              "      <td>False</td>\n",
              "      <td>False</td>\n",
              "      <td>False</td>\n",
              "      <td>False</td>\n",
              "      <td>False</td>\n",
              "      <td>False</td>\n",
              "      <td>False</td>\n",
              "      <td>False</td>\n",
              "      <td>True</td>\n",
              "      <td>False</td>\n",
              "    </tr>\n",
              "    <tr>\n",
              "      <th>99</th>\n",
              "      <td>False</td>\n",
              "      <td>False</td>\n",
              "      <td>False</td>\n",
              "      <td>False</td>\n",
              "      <td>False</td>\n",
              "      <td>False</td>\n",
              "      <td>False</td>\n",
              "      <td>False</td>\n",
              "      <td>True</td>\n",
              "      <td>False</td>\n",
              "      <td>False</td>\n",
              "      <td>False</td>\n",
              "      <td>True</td>\n",
              "      <td>False</td>\n",
              "    </tr>\n",
              "  </tbody>\n",
              "</table>\n",
              "<p>100 rows × 14 columns</p>\n",
              "</div>"
            ],
            "text/plain": [
              "    Timestamp  Email Address  First Name  ...  Employed  Skills   College\n",
              "0       False          False       False  ...     False    False    False\n",
              "1       False          False       False  ...     False    False    False\n",
              "2       False          False       False  ...     False    False    False\n",
              "3       False          False       False  ...     False    False     True\n",
              "4       False          False       False  ...     False     True     True\n",
              "..        ...            ...         ...  ...       ...      ...      ...\n",
              "95      False          False       False  ...     False     True    False\n",
              "96      False          False       False  ...     False    False    False\n",
              "97      False          False       False  ...     False    False    False\n",
              "98      False          False       False  ...     False     True    False\n",
              "99      False          False       False  ...     False     True    False\n",
              "\n",
              "[100 rows x 14 columns]"
            ]
          },
          "metadata": {
            "tags": []
          },
          "execution_count": 6
        }
      ]
    },
    {
      "cell_type": "markdown",
      "metadata": {
        "id": "rUjF2rGiSCgV"
      },
      "source": [
        "#Dropping Columns that are not useful"
      ]
    },
    {
      "cell_type": "code",
      "metadata": {
        "id": "zM6qkYfXSKtT"
      },
      "source": [
        "dataset.drop('Timestamp', axis= 1, inplace= True)"
      ],
      "execution_count": 7,
      "outputs": []
    },
    {
      "cell_type": "code",
      "metadata": {
        "id": "xuEhos3pSKhZ"
      },
      "source": [
        "dataset.drop('First Name', axis= 1, inplace= True)"
      ],
      "execution_count": 8,
      "outputs": []
    },
    {
      "cell_type": "code",
      "metadata": {
        "id": "MXoYo7pCSKTi"
      },
      "source": [
        "dataset.drop('Last Name', axis= 1, inplace= True)"
      ],
      "execution_count": 9,
      "outputs": []
    },
    {
      "cell_type": "code",
      "metadata": {
        "id": "FjxHzSa_SJwy"
      },
      "source": [
        "dataset.drop('Company name', axis = 1, inplace= True)"
      ],
      "execution_count": 10,
      "outputs": []
    },
    {
      "cell_type": "code",
      "metadata": {
        "colab": {
          "base_uri": "https://localhost:8080/",
          "height": 279
        },
        "id": "WCuHTBBzSrxJ",
        "outputId": "ede864cf-afcc-4396-a645-1dc59a2e8f90"
      },
      "source": [
        "dataset.head()"
      ],
      "execution_count": 11,
      "outputs": [
        {
          "output_type": "execute_result",
          "data": {
            "text/html": [
              "<div>\n",
              "<style scoped>\n",
              "    .dataframe tbody tr th:only-of-type {\n",
              "        vertical-align: middle;\n",
              "    }\n",
              "\n",
              "    .dataframe tbody tr th {\n",
              "        vertical-align: top;\n",
              "    }\n",
              "\n",
              "    .dataframe thead th {\n",
              "        text-align: right;\n",
              "    }\n",
              "</style>\n",
              "<table border=\"1\" class=\"dataframe\">\n",
              "  <thead>\n",
              "    <tr style=\"text-align: right;\">\n",
              "      <th></th>\n",
              "      <th>Email Address</th>\n",
              "      <th>Job_Title</th>\n",
              "      <th>Location</th>\n",
              "      <th>Gender</th>\n",
              "      <th>Age</th>\n",
              "      <th>Education</th>\n",
              "      <th>Industry</th>\n",
              "      <th>Employed</th>\n",
              "      <th>Skills</th>\n",
              "      <th>College</th>\n",
              "    </tr>\n",
              "  </thead>\n",
              "  <tbody>\n",
              "    <tr>\n",
              "      <th>0</th>\n",
              "      <td>artimishra20@yahoo.com</td>\n",
              "      <td>Web Developer</td>\n",
              "      <td>Mumbai</td>\n",
              "      <td>Female</td>\n",
              "      <td>23.0</td>\n",
              "      <td>Bachelor Degree</td>\n",
              "      <td>IT</td>\n",
              "      <td>Yes</td>\n",
              "      <td>Web Designing</td>\n",
              "      <td>XYZ College name</td>\n",
              "    </tr>\n",
              "    <tr>\n",
              "      <th>1</th>\n",
              "      <td>aarushu569@gmail.com</td>\n",
              "      <td>Data Analyst</td>\n",
              "      <td>Gujrat</td>\n",
              "      <td>Female</td>\n",
              "      <td>24.0</td>\n",
              "      <td>Bachelor Degree</td>\n",
              "      <td>IT</td>\n",
              "      <td>Yes</td>\n",
              "      <td>Exploratory Data analysis</td>\n",
              "      <td>BCS College</td>\n",
              "    </tr>\n",
              "    <tr>\n",
              "      <th>2</th>\n",
              "      <td>aarti@gmail.com</td>\n",
              "      <td>Chartered Accountant</td>\n",
              "      <td>Mumbai</td>\n",
              "      <td>Male</td>\n",
              "      <td>30.0</td>\n",
              "      <td>Master Degree</td>\n",
              "      <td>Commercial</td>\n",
              "      <td>No</td>\n",
              "      <td>Marketing</td>\n",
              "      <td>Ac College</td>\n",
              "    </tr>\n",
              "    <tr>\n",
              "      <th>3</th>\n",
              "      <td>anu30330@gmail.com</td>\n",
              "      <td>Cashier</td>\n",
              "      <td>Gujrat</td>\n",
              "      <td>Female</td>\n",
              "      <td>32.0</td>\n",
              "      <td>Bachelor Degree</td>\n",
              "      <td>Banking</td>\n",
              "      <td>No</td>\n",
              "      <td>Collecting Money</td>\n",
              "      <td>NaN</td>\n",
              "    </tr>\n",
              "    <tr>\n",
              "      <th>4</th>\n",
              "      <td>Ashi@yahoo.com</td>\n",
              "      <td>Team Manager</td>\n",
              "      <td>Bangalore</td>\n",
              "      <td>Male</td>\n",
              "      <td>26.0</td>\n",
              "      <td>Master Degree</td>\n",
              "      <td>Textile Industry</td>\n",
              "      <td>No</td>\n",
              "      <td>NaN</td>\n",
              "      <td>NaN</td>\n",
              "    </tr>\n",
              "  </tbody>\n",
              "</table>\n",
              "</div>"
            ],
            "text/plain": [
              "            Email Address  ...           College\n",
              "0  artimishra20@yahoo.com  ...  XYZ College name\n",
              "1    aarushu569@gmail.com  ...       BCS College\n",
              "2         aarti@gmail.com  ...        Ac College\n",
              "3      anu30330@gmail.com  ...               NaN\n",
              "4          Ashi@yahoo.com  ...               NaN\n",
              "\n",
              "[5 rows x 10 columns]"
            ]
          },
          "metadata": {
            "tags": []
          },
          "execution_count": 11
        }
      ]
    },
    {
      "cell_type": "markdown",
      "metadata": {
        "id": "wovuYNHwTAMi"
      },
      "source": [
        "#Performing Label Encoding on few columns so that we can easily perform Feature Scaling and apply Classification model"
      ]
    },
    {
      "cell_type": "code",
      "metadata": {
        "id": "sEB9X4W_TY9K"
      },
      "source": [
        "from sklearn.preprocessing import LabelEncoder\r\n",
        "le = LabelEncoder()\r\n",
        "dataset['Education'] = le.fit_transform(dataset['Education'])"
      ],
      "execution_count": 12,
      "outputs": []
    },
    {
      "cell_type": "code",
      "metadata": {
        "id": "cLQHnat7TYsm"
      },
      "source": [
        "from sklearn.preprocessing import LabelEncoder\r\n",
        "le = LabelEncoder()\r\n",
        "dataset['Employed'] = le.fit_transform(dataset['Employed'])"
      ],
      "execution_count": 13,
      "outputs": []
    },
    {
      "cell_type": "code",
      "metadata": {
        "id": "1HdYNdVQTYjW"
      },
      "source": [
        "from sklearn.preprocessing import LabelEncoder\r\n",
        "le = LabelEncoder()\r\n",
        "dataset['Job_Title'] = le.fit_transform(dataset['Job_Title'])"
      ],
      "execution_count": 14,
      "outputs": []
    },
    {
      "cell_type": "code",
      "metadata": {
        "colab": {
          "base_uri": "https://localhost:8080/",
          "height": 195
        },
        "id": "wCumUugeUToe",
        "outputId": "edc0102e-b78f-4319-df01-e78791b59872"
      },
      "source": [
        "dataset.head()"
      ],
      "execution_count": 15,
      "outputs": [
        {
          "output_type": "execute_result",
          "data": {
            "text/html": [
              "<div>\n",
              "<style scoped>\n",
              "    .dataframe tbody tr th:only-of-type {\n",
              "        vertical-align: middle;\n",
              "    }\n",
              "\n",
              "    .dataframe tbody tr th {\n",
              "        vertical-align: top;\n",
              "    }\n",
              "\n",
              "    .dataframe thead th {\n",
              "        text-align: right;\n",
              "    }\n",
              "</style>\n",
              "<table border=\"1\" class=\"dataframe\">\n",
              "  <thead>\n",
              "    <tr style=\"text-align: right;\">\n",
              "      <th></th>\n",
              "      <th>Email Address</th>\n",
              "      <th>Job_Title</th>\n",
              "      <th>Location</th>\n",
              "      <th>Gender</th>\n",
              "      <th>Age</th>\n",
              "      <th>Education</th>\n",
              "      <th>Industry</th>\n",
              "      <th>Employed</th>\n",
              "      <th>Skills</th>\n",
              "      <th>College</th>\n",
              "    </tr>\n",
              "  </thead>\n",
              "  <tbody>\n",
              "    <tr>\n",
              "      <th>0</th>\n",
              "      <td>artimishra20@yahoo.com</td>\n",
              "      <td>23</td>\n",
              "      <td>Mumbai</td>\n",
              "      <td>Female</td>\n",
              "      <td>23.0</td>\n",
              "      <td>2</td>\n",
              "      <td>IT</td>\n",
              "      <td>1</td>\n",
              "      <td>Web Designing</td>\n",
              "      <td>XYZ College name</td>\n",
              "    </tr>\n",
              "    <tr>\n",
              "      <th>1</th>\n",
              "      <td>aarushu569@gmail.com</td>\n",
              "      <td>5</td>\n",
              "      <td>Gujrat</td>\n",
              "      <td>Female</td>\n",
              "      <td>24.0</td>\n",
              "      <td>1</td>\n",
              "      <td>IT</td>\n",
              "      <td>1</td>\n",
              "      <td>Exploratory Data analysis</td>\n",
              "      <td>BCS College</td>\n",
              "    </tr>\n",
              "    <tr>\n",
              "      <th>2</th>\n",
              "      <td>aarti@gmail.com</td>\n",
              "      <td>1</td>\n",
              "      <td>Mumbai</td>\n",
              "      <td>Male</td>\n",
              "      <td>30.0</td>\n",
              "      <td>4</td>\n",
              "      <td>Commercial</td>\n",
              "      <td>0</td>\n",
              "      <td>Marketing</td>\n",
              "      <td>Ac College</td>\n",
              "    </tr>\n",
              "    <tr>\n",
              "      <th>3</th>\n",
              "      <td>anu30330@gmail.com</td>\n",
              "      <td>0</td>\n",
              "      <td>Gujrat</td>\n",
              "      <td>Female</td>\n",
              "      <td>32.0</td>\n",
              "      <td>1</td>\n",
              "      <td>Banking</td>\n",
              "      <td>0</td>\n",
              "      <td>Collecting Money</td>\n",
              "      <td>NaN</td>\n",
              "    </tr>\n",
              "    <tr>\n",
              "      <th>4</th>\n",
              "      <td>Ashi@yahoo.com</td>\n",
              "      <td>20</td>\n",
              "      <td>Bangalore</td>\n",
              "      <td>Male</td>\n",
              "      <td>26.0</td>\n",
              "      <td>4</td>\n",
              "      <td>Textile Industry</td>\n",
              "      <td>0</td>\n",
              "      <td>NaN</td>\n",
              "      <td>NaN</td>\n",
              "    </tr>\n",
              "  </tbody>\n",
              "</table>\n",
              "</div>"
            ],
            "text/plain": [
              "            Email Address  ...           College\n",
              "0  artimishra20@yahoo.com  ...  XYZ College name\n",
              "1    aarushu569@gmail.com  ...       BCS College\n",
              "2         aarti@gmail.com  ...        Ac College\n",
              "3      anu30330@gmail.com  ...               NaN\n",
              "4          Ashi@yahoo.com  ...               NaN\n",
              "\n",
              "[5 rows x 10 columns]"
            ]
          },
          "metadata": {
            "tags": []
          },
          "execution_count": 15
        }
      ]
    },
    {
      "cell_type": "markdown",
      "metadata": {
        "id": "n003S_bSPqo3"
      },
      "source": [
        "#Exploratory Data Analysis"
      ]
    },
    {
      "cell_type": "markdown",
      "metadata": {
        "id": "mHzNp_tMQGHv"
      },
      "source": [
        "##Displaying the NAN values using Heatmap, so we can visualize the nan values that are in the dataset\r\n"
      ]
    },
    {
      "cell_type": "code",
      "metadata": {
        "colab": {
          "base_uri": "https://localhost:8080/",
          "height": 343
        },
        "id": "6GOrrcKzQaCA",
        "outputId": "3d4c2179-f580-4d3f-ab25-43c27d48e663"
      },
      "source": [
        "sns.heatmap(dataset.isnull(), yticklabels = False, cbar = False, cmap = 'viridis')"
      ],
      "execution_count": 16,
      "outputs": [
        {
          "output_type": "execute_result",
          "data": {
            "text/plain": [
              "<matplotlib.axes._subplots.AxesSubplot at 0x7fceb53c5940>"
            ]
          },
          "metadata": {
            "tags": []
          },
          "execution_count": 16
        },
        {
          "output_type": "display_data",
          "data": {
            "image/png": "[encoded data removed]",
            "text/plain": [
              "<Figure size 432x288 with 1 Axes>"
            ]
          },
          "metadata": {
            "tags": [],
            "needs_background": "light"
          }
        }
      ]
    },
    {
      "cell_type": "markdown",
      "metadata": {
        "id": "_dc_dKcHQQyS"
      },
      "source": [
        "##Dropping College and Skills columns"
      ]
    },
    {
      "cell_type": "code",
      "metadata": {
        "id": "SUGeMrODRJfW"
      },
      "source": [
        "dataset.drop('College', axis= 1, inplace= True)"
      ],
      "execution_count": 17,
      "outputs": []
    },
    {
      "cell_type": "code",
      "metadata": {
        "id": "ljAN00l-SopM"
      },
      "source": [
        "dataset.drop('Skills ', axis= 1, inplace= True)"
      ],
      "execution_count": 18,
      "outputs": []
    },
    {
      "cell_type": "code",
      "metadata": {
        "colab": {
          "base_uri": "https://localhost:8080/",
          "height": 343
        },
        "id": "DYHhrRu-S8KT",
        "outputId": "62ed68bb-c84d-4127-bf2a-2d03af0ba564"
      },
      "source": [
        "sns.heatmap(dataset.isnull(), yticklabels = False, cbar = False, cmap = 'viridis')"
      ],
      "execution_count": 19,
      "outputs": [
        {
          "output_type": "execute_result",
          "data": {
            "text/plain": [
              "<matplotlib.axes._subplots.AxesSubplot at 0x7fceb511a710>"
            ]
          },
          "metadata": {
            "tags": []
          },
          "execution_count": 19
        },
        {
          "output_type": "display_data",
          "data": {
            "image/png": "[encoded data removed]",
            "text/plain": [
              "<Figure size 432x288 with 1 Axes>"
            ]
          },
          "metadata": {
            "tags": [],
            "needs_background": "light"
          }
        }
      ]
    },
    {
      "cell_type": "markdown",
      "metadata": {
        "id": "dOLX_s8QUqGF"
      },
      "source": [
        "#Performing boxplot to understand the relation between Education and Age Columns"
      ]
    },
    {
      "cell_type": "code",
      "metadata": {
        "colab": {
          "base_uri": "https://localhost:8080/",
          "height": 459
        },
        "id": "XLjyXhG3TUXt",
        "outputId": "75f89098-4b5d-4fcd-e322-03e08f92759f"
      },
      "source": [
        "plt.figure(figsize = (12,7))\r\n",
        "sns.boxplot(x = 'Education', y = 'Age', data = dataset)"
      ],
      "execution_count": 20,
      "outputs": [
        {
          "output_type": "execute_result",
          "data": {
            "text/plain": [
              "<matplotlib.axes._subplots.AxesSubplot at 0x7fceac450630>"
            ]
          },
          "metadata": {
            "tags": []
          },
          "execution_count": 20
        },
        {
          "output_type": "display_data",
          "data": {
            "image/png": "[encoded data removed]",
            "text/plain": [
              "<Figure size 864x504 with 1 Axes>"
            ]
          },
          "metadata": {
            "tags": [],
            "needs_background": "light"
          }
        }
      ]
    },
    {
      "cell_type": "markdown",
      "metadata": {
        "id": "a_X-yBbeUyfF"
      },
      "source": [
        "##Filling the null values in Age column with the average age "
      ]
    },
    {
      "cell_type": "code",
      "metadata": {
        "id": "0uQ6xSt7Undu"
      },
      "source": [
        "def impute_age(cols):\r\n",
        "  Age = cols[0]\r\n",
        "  Education = cols[1]\r\n",
        "\r\n",
        "  if pd.isnull(Age):\r\n",
        "     if Education == 0:\r\n",
        "       return 22\r\n",
        "\r\n",
        "     elif Education == 1:\r\n",
        "       return 34\r\n",
        "\r\n",
        "     elif Education == 2:\r\n",
        "       return 44  \r\n",
        "\r\n",
        "     else:\r\n",
        "       return 27\r\n",
        "\r\n",
        "  else:\r\n",
        "     return Age"
      ],
      "execution_count": 21,
      "outputs": []
    },
    {
      "cell_type": "code",
      "metadata": {
        "id": "xycIL450ceuI"
      },
      "source": [
        "dataset['Age'] = dataset[['Age', 'Education']].apply(impute_age, axis = 1)"
      ],
      "execution_count": 22,
      "outputs": []
    },
    {
      "cell_type": "code",
      "metadata": {
        "colab": {
          "base_uri": "https://localhost:8080/",
          "height": 343
        },
        "id": "zXBl0JWqclus",
        "outputId": "ccce93a7-5323-490b-febd-9735d0843e94"
      },
      "source": [
        "sns.heatmap(dataset.isnull(), yticklabels = False, cbar = False, cmap = 'viridis')"
      ],
      "execution_count": 23,
      "outputs": [
        {
          "output_type": "execute_result",
          "data": {
            "text/plain": [
              "<matplotlib.axes._subplots.AxesSubplot at 0x7fcec5860898>"
            ]
          },
          "metadata": {
            "tags": []
          },
          "execution_count": 23
        },
        {
          "output_type": "display_data",
          "data": {
            "image/png": "[encoded data removed]",
            "text/plain": [
              "<Figure size 432x288 with 1 Axes>"
            ]
          },
          "metadata": {
            "tags": [],
            "needs_background": "light"
          }
        }
      ]
    },
    {
      "cell_type": "markdown",
      "metadata": {
        "id": "6p7FRokMYAZP"
      },
      "source": [
        "#Visualising the number of Employed and Unemployed people present in our dataset"
      ]
    },
    {
      "cell_type": "code",
      "metadata": {
        "colab": {
          "base_uri": "https://localhost:8080/",
          "height": 296
        },
        "id": "g4eQYwLafEds",
        "outputId": "1c8618ae-a897-4b83-cec4-b084bcca6be6"
      },
      "source": [
        "sns.set_style('whitegrid')\r\n",
        "sns.countplot(x = 'Employed',  data = dataset)"
      ],
      "execution_count": 24,
      "outputs": [
        {
          "output_type": "execute_result",
          "data": {
            "text/plain": [
              "<matplotlib.axes._subplots.AxesSubplot at 0x7fceac8e1668>"
            ]
          },
          "metadata": {
            "tags": []
          },
          "execution_count": 24
        },
        {
          "output_type": "display_data",
          "data": {
            "image/png": "[encoded data removed]",
            "text/plain": [
              "<Figure size 432x288 with 1 Axes>"
            ]
          },
          "metadata": {
            "tags": []
          }
        }
      ]
    },
    {
      "cell_type": "markdown",
      "metadata": {
        "id": "hTcWOUPAYOX6"
      },
      "source": [
        "\r\n",
        "\r\n",
        "1.   0 is unemployed\r\n",
        "2.   1 is employed\r\n",
        "\r\n",
        "Here we can see that the number of employed people are maximum than the number of unemployed people \r\n",
        "\r\n"
      ]
    },
    {
      "cell_type": "markdown",
      "metadata": {
        "id": "uzu919TAYdKu"
      },
      "source": [
        "#Visualising the relation between Gender and Employed Columns"
      ]
    },
    {
      "cell_type": "code",
      "metadata": {
        "colab": {
          "base_uri": "https://localhost:8080/",
          "height": 296
        },
        "id": "gCEj_whPf-oY",
        "outputId": "8dedb8d3-b7b3-445c-a0d1-53987037b7f9"
      },
      "source": [
        "sns.set_style('whitegrid')\r\n",
        "sns.countplot(x = 'Employed', hue = 'Gender', data = dataset)"
      ],
      "execution_count": 25,
      "outputs": [
        {
          "output_type": "execute_result",
          "data": {
            "text/plain": [
              "<matplotlib.axes._subplots.AxesSubplot at 0x7fceac347908>"
            ]
          },
          "metadata": {
            "tags": []
          },
          "execution_count": 25
        },
        {
          "output_type": "display_data",
          "data": {
            "image/png": "[encoded data removed]",
            "text/plain": [
              "<Figure size 432x288 with 1 Axes>"
            ]
          },
          "metadata": {
            "tags": []
          }
        }
      ]
    },
    {
      "cell_type": "markdown",
      "metadata": {
        "id": "avD7oHHLamK0"
      },
      "source": [
        "Here we can clearly see that number of employed Females is greater than number of employed Males. Similarly number of unemployed Male is greater than unemployed Female."
      ]
    },
    {
      "cell_type": "markdown",
      "metadata": {
        "id": "-d1qOroPYrN4"
      },
      "source": [
        "#Performing the countplot on Location Column so that we can understand the maximum number of people working in those cities"
      ]
    },
    {
      "cell_type": "code",
      "metadata": {
        "colab": {
          "base_uri": "https://localhost:8080/",
          "height": 296
        },
        "id": "gQJj45Dygf-n",
        "outputId": "9d0c688f-71af-49e0-fea3-8c054ebb15b0"
      },
      "source": [
        "sns.set_style('whitegrid')\r\n",
        "sns.countplot(y = 'Location', data = dataset)"
      ],
      "execution_count": 26,
      "outputs": [
        {
          "output_type": "execute_result",
          "data": {
            "text/plain": [
              "<matplotlib.axes._subplots.AxesSubplot at 0x7fceac259908>"
            ]
          },
          "metadata": {
            "tags": []
          },
          "execution_count": 26
        },
        {
          "output_type": "display_data",
          "data": {
            "image/png": "[encoded data removed]",
            "text/plain": [
              "<Figure size 432x288 with 1 Axes>"
            ]
          },
          "metadata": {
            "tags": []
          }
        }
      ]
    },
    {
      "cell_type": "code",
      "metadata": {
        "colab": {
          "base_uri": "https://localhost:8080/",
          "height": 350
        },
        "id": "0XJWs6EJDzub",
        "outputId": "eab7540b-8b00-4afb-d606-c61017e7f0b9"
      },
      "source": [
        "sns.distplot(dataset['Age'].dropna(), kde = False, color = 'darkred', bins = 40)"
      ],
      "execution_count": 27,
      "outputs": [
        {
          "output_type": "stream",
          "text": [
            "/usr/local/lib/python3.6/dist-packages/seaborn/distributions.py:2557: FutureWarning: `distplot` is a deprecated function and will be removed in a future version. Please adapt your code to use either `displot` (a figure-level function with similar flexibility) or `histplot` (an axes-level function for histograms).\n",
            "  warnings.warn(msg, FutureWarning)\n"
          ],
          "name": "stderr"
        },
        {
          "output_type": "execute_result",
          "data": {
            "text/plain": [
              "<matplotlib.axes._subplots.AxesSubplot at 0x7fceac16b320>"
            ]
          },
          "metadata": {
            "tags": []
          },
          "execution_count": 27
        },
        {
          "output_type": "display_data",
          "data": {
            "image/png": "[encoded data removed]",
            "text/plain": [
              "<Figure size 432x288 with 1 Axes>"
            ]
          },
          "metadata": {
            "tags": []
          }
        }
      ]
    },
    {
      "cell_type": "markdown",
      "metadata": {
        "id": "VqIRCxCTVN54"
      },
      "source": [
        "#Visualising maximum number of employment based on Industry Type using Pie Chart"
      ]
    },
    {
      "cell_type": "code",
      "metadata": {
        "colab": {
          "base_uri": "https://localhost:8080/"
        },
        "id": "WP9Fb5cPE0pc",
        "outputId": "9319dcd0-1a37-42d8-a41a-3fb42af90b46"
      },
      "source": [
        "data = dataset.groupby(\"Industry\")[\"Employed\"].sum()\r\n",
        "data"
      ],
      "execution_count": 28,
      "outputs": [
        {
          "output_type": "execute_result",
          "data": {
            "text/plain": [
              "Industry\n",
              "Banking             12\n",
              "Commercial          14\n",
              "Commercial           0\n",
              "IT                  26\n",
              "Textile              7\n",
              "Textile              1\n",
              "Textile Industry     0\n",
              "Name: Employed, dtype: int64"
            ]
          },
          "metadata": {
            "tags": []
          },
          "execution_count": 28
        }
      ]
    },
    {
      "cell_type": "code",
      "metadata": {
        "colab": {
          "base_uri": "https://localhost:8080/",
          "height": 374
        },
        "id": "pxhK_loIFMY-",
        "outputId": "d1f4227b-875d-4baa-d4cf-ee05abfd6ae1"
      },
      "source": [
        "pie, ax = plt.subplots(figsize=[10,6])\r\n",
        "labels = data.keys()\r\n",
        "plt.pie(x=data, autopct=\"%.1f%%\", explode=[0.05]*7, labels=labels, pctdistance=0.5)\r\n",
        "plt.title(\"Maximum number of Employment based on Industry Type\", fontsize=14);"
      ],
      "execution_count": 29,
      "outputs": [
        {
          "output_type": "display_data",
          "data": {
            "image/png": "[encoded data removed]",
            "text/plain": [
              "<Figure size 720x432 with 1 Axes>"
            ]
          },
          "metadata": {
            "tags": []
          }
        }
      ]
    },
    {
      "cell_type": "markdown",
      "metadata": {
        "id": "C7GatveXcAFc"
      },
      "source": [
        "From above piechart we can see that maximum number of people work or desire to work in IT Industry followed by Commercial Industry and so on."
      ]
    },
    {
      "cell_type": "markdown",
      "metadata": {
        "id": "ck3jz6L7VdX7"
      },
      "source": [
        "#Performing countplot on Location and Industry columns"
      ]
    },
    {
      "cell_type": "code",
      "metadata": {
        "colab": {
          "base_uri": "https://localhost:8080/",
          "height": 534
        },
        "id": "8DSGuWdQIIAx",
        "outputId": "95daaa49-25a9-4686-b425-0951c8492bb3"
      },
      "source": [
        "sns.set_style('whitegrid')\r\n",
        "sns.set(rc={'figure.figsize':(11.7,8.27)})\r\n",
        "sns.countplot(y = 'Location', hue = 'Industry', data = dataset)"
      ],
      "execution_count": 30,
      "outputs": [
        {
          "output_type": "execute_result",
          "data": {
            "text/plain": [
              "<matplotlib.axes._subplots.AxesSubplot at 0x7fceac05a7f0>"
            ]
          },
          "metadata": {
            "tags": []
          },
          "execution_count": 30
        },
        {
          "output_type": "display_data",
          "data": {
            "image/png": "[encoded data removed]",
            "text/plain": [
              "<Figure size 842.4x595.44 with 1 Axes>"
            ]
          },
          "metadata": {
            "tags": []
          }
        }
      ]
    },
    {
      "cell_type": "markdown",
      "metadata": {
        "id": "T1luhobNc-_n"
      },
      "source": [
        "From above countplot we can see that maximum number of IT Industries are in Mumbai, maximum number of Commercial Industries are in Gujrat, maximum number of Banking Industries are in Nagaland and maximum number of Textile Industries are in Delhi."
      ]
    },
    {
      "cell_type": "markdown",
      "metadata": {
        "id": "Oeo7QNDgc2Pg"
      },
      "source": [
        "#Performing Label Encoding on few columns so that we can easily perform Feature Scaling and apply Classification model"
      ]
    },
    {
      "cell_type": "code",
      "metadata": {
        "id": "Nd0g4vqCVuef"
      },
      "source": [
        "from sklearn.preprocessing import LabelEncoder\r\n",
        "le = LabelEncoder()\r\n",
        "dataset['Location'] = le.fit_transform(dataset['Location'])"
      ],
      "execution_count": 31,
      "outputs": []
    },
    {
      "cell_type": "code",
      "metadata": {
        "id": "A1ec4qmSWOoX"
      },
      "source": [
        "from sklearn.preprocessing import LabelEncoder\r\n",
        "le = LabelEncoder()\r\n",
        "dataset['Industry'] = le.fit_transform(dataset['Industry'])"
      ],
      "execution_count": 32,
      "outputs": []
    },
    {
      "cell_type": "code",
      "metadata": {
        "id": "NY4vvSUUa42m"
      },
      "source": [
        "from sklearn.preprocessing import LabelEncoder\r\n",
        "le = LabelEncoder()\r\n",
        "dataset['Gender'] = le.fit_transform(dataset['Gender'])"
      ],
      "execution_count": 33,
      "outputs": []
    },
    {
      "cell_type": "code",
      "metadata": {
        "id": "fa8dnFNLdsDZ"
      },
      "source": [
        "dataset.head()"
      ],
      "execution_count": null,
      "outputs": []
    },
    {
      "cell_type": "markdown",
      "metadata": {
        "id": "A0EbbEp1VwRy"
      },
      "source": [
        "#Assigning the columns to metrics of feature X and dependent variable Y"
      ]
    },
    {
      "cell_type": "code",
      "metadata": {
        "id": "7gfTkNvWKutS"
      },
      "source": [
        "X = dataset.iloc[:, 1:-1].values\r\n",
        "y = dataset.iloc[:, -1].values"
      ],
      "execution_count": 34,
      "outputs": []
    },
    {
      "cell_type": "code",
      "metadata": {
        "colab": {
          "base_uri": "https://localhost:8080/"
        },
        "id": "XpH-qSCOLLFx",
        "outputId": "55ec80a4-9535-42d6-8a09-95c2e1c74261"
      },
      "source": [
        "print(y)"
      ],
      "execution_count": 35,
      "outputs": [
        {
          "output_type": "stream",
          "text": [
            "[1 1 0 0 0 1 1 0 1 1 1 0 0 1 0 1 1 1 1 1 1 0 1 1 0 1 0 1 0 0 1 0 1 0 1 0 0\n",
            " 1 0 1 0 0 1 1 1 0 0 0 1 1 1 1 1 0 0 0 0 0 1 0 1 1 0 0 0 1 1 1 0 1 1 1 0 1\n",
            " 1 1 1 0 1 0 1 1 1 1 1 0 0 0 0 1 1 1 1 0 1 1 1 1 1 1]\n"
          ],
          "name": "stdout"
        }
      ]
    },
    {
      "cell_type": "markdown",
      "metadata": {
        "id": "VYZbsVMgd4SC"
      },
      "source": [
        "#Splitting the dataset into Training set and Test set"
      ]
    },
    {
      "cell_type": "code",
      "metadata": {
        "id": "d4YxRL6uK__p"
      },
      "source": [
        "from sklearn.model_selection import train_test_split\r\n",
        "X_train, X_test, y_train, y_test = train_test_split(X, y, test_size = 0.25, random_state = 0)"
      ],
      "execution_count": 36,
      "outputs": []
    },
    {
      "cell_type": "markdown",
      "metadata": {
        "id": "OMhPl1KPeTgU"
      },
      "source": [
        "#Feature Scaling"
      ]
    },
    {
      "cell_type": "code",
      "metadata": {
        "id": "8oB_qn6zNkI0"
      },
      "source": [
        "from sklearn.preprocessing import StandardScaler\r\n",
        "sc = StandardScaler()\r\n",
        "X_train = sc.fit_transform(X_train)\r\n",
        "X_test = sc.transform(X_test)"
      ],
      "execution_count": 37,
      "outputs": []
    },
    {
      "cell_type": "markdown",
      "metadata": {
        "id": "JotRy0L-eWYR"
      },
      "source": [
        "#Training the logistic Regression on the Training set"
      ]
    },
    {
      "cell_type": "code",
      "metadata": {
        "colab": {
          "base_uri": "https://localhost:8080/"
        },
        "id": "cMC17-9CLk3U",
        "outputId": "be450949-1b56-497f-ec6a-9076912482a5"
      },
      "source": [
        "from sklearn.linear_model import LogisticRegression\r\n",
        "classifier = LogisticRegression(random_state = 0)\r\n",
        "classifier.fit(X_train, y_train)"
      ],
      "execution_count": 38,
      "outputs": [
        {
          "output_type": "execute_result",
          "data": {
            "text/plain": [
              "LogisticRegression(C=1.0, class_weight=None, dual=False, fit_intercept=True,\n",
              "                   intercept_scaling=1, l1_ratio=None, max_iter=100,\n",
              "                   multi_class='auto', n_jobs=None, penalty='l2',\n",
              "                   random_state=0, solver='lbfgs', tol=0.0001, verbose=0,\n",
              "                   warm_start=False)"
            ]
          },
          "metadata": {
            "tags": []
          },
          "execution_count": 38
        }
      ]
    },
    {
      "cell_type": "markdown",
      "metadata": {
        "id": "E1TUPwchefnJ"
      },
      "source": [
        "#Predicting test set results"
      ]
    },
    {
      "cell_type": "code",
      "metadata": {
        "colab": {
          "base_uri": "https://localhost:8080/"
        },
        "id": "ErGxbDx8NrY9",
        "outputId": "c687f8c5-ebb5-4bc1-c067-170fe2d88e3d"
      },
      "source": [
        "y_pred = classifier.predict(X_test)\r\n",
        "print(np.concatenate((y_pred.reshape(len(y_pred),1), y_test.reshape(len(y_test),1)),1))"
      ],
      "execution_count": 39,
      "outputs": [
        {
          "output_type": "stream",
          "text": [
            "[[0 0]\n",
            " [0 0]\n",
            " [0 0]\n",
            " [0 0]\n",
            " [1 1]\n",
            " [1 0]\n",
            " [0 1]\n",
            " [1 1]\n",
            " [0 0]\n",
            " [1 1]\n",
            " [1 0]\n",
            " [1 1]\n",
            " [1 1]\n",
            " [0 1]\n",
            " [1 0]\n",
            " [1 1]\n",
            " [1 1]\n",
            " [1 0]\n",
            " [0 0]\n",
            " [1 1]\n",
            " [1 1]\n",
            " [0 0]\n",
            " [1 0]\n",
            " [1 1]\n",
            " [0 0]]\n"
          ],
          "name": "stdout"
        }
      ]
    },
    {
      "cell_type": "markdown",
      "metadata": {
        "id": "d9M1-yZNel1z"
      },
      "source": [
        "#Making the confusion matrix"
      ]
    },
    {
      "cell_type": "code",
      "metadata": {
        "colab": {
          "base_uri": "https://localhost:8080/"
        },
        "id": "aF6NZtZWNv5g",
        "outputId": "64761bc9-9bb9-43fb-8750-8b84789e155e"
      },
      "source": [
        "from sklearn.metrics import confusion_matrix, accuracy_score\r\n",
        "cm = confusion_matrix(y_test, y_pred)\r\n",
        "print(cm)\r\n",
        "accuracy_score(y_test, y_pred)"
      ],
      "execution_count": 40,
      "outputs": [
        {
          "output_type": "stream",
          "text": [
            "[[ 8  5]\n",
            " [ 2 10]]\n"
          ],
          "name": "stdout"
        },
        {
          "output_type": "execute_result",
          "data": {
            "text/plain": [
              "0.72"
            ]
          },
          "metadata": {
            "tags": []
          },
          "execution_count": 40
        }
      ]
    },
    {
      "cell_type": "markdown",
      "metadata": {
        "id": "BZLQdFMgerkb"
      },
      "source": [
        "Here we can see that we got an accuracy score of 72%"
      ]
    },
    {
      "cell_type": "code",
      "metadata": {
        "colab": {
          "base_uri": "https://localhost:8080/"
        },
        "id": "s8FiS-0IOl0t",
        "outputId": "a86cb328-12bb-4cd5-8f6d-83efe0973e45"
      },
      "source": [
        "from sklearn.metrics import classification_report\r\n",
        "cr = classification_report(y_test, y_pred)\r\n",
        "print(cr)"
      ],
      "execution_count": 41,
      "outputs": [
        {
          "output_type": "stream",
          "text": [
            "              precision    recall  f1-score   support\n",
            "\n",
            "           0       0.80      0.62      0.70        13\n",
            "           1       0.67      0.83      0.74        12\n",
            "\n",
            "    accuracy                           0.72        25\n",
            "   macro avg       0.73      0.72      0.72        25\n",
            "weighted avg       0.74      0.72      0.72        25\n",
            "\n"
          ],
          "name": "stdout"
        }
      ]
    },
    {
      "cell_type": "markdown",
      "metadata": {
        "id": "CcgV0Px7gAVX"
      },
      "source": [
        "#Based on the above visualization and after performing Logistic Regression we can clearly see that the employment ratio is higher in India."
      ]
    }
  ]
}